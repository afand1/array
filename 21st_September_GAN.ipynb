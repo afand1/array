{
 "cells": [
  {
   "cell_type": "code",
   "execution_count": 14,
   "id": "8b77a06e-cc4f-4c58-93ad-a324aa750a71",
   "metadata": {},
   "outputs": [
    {
     "name": "stdout",
     "output_type": "stream",
     "text": [
      "True\n"
     ]
    }
   ],
   "source": [
    "#given array is\n",
    "arr = [1, 2, 4, 2, 5, 9]\n",
    "\n",
    "def contains_duplicates(arr):\n",
    "    # Check if the length of the set is different from the length of the array\n",
    "    return len(set(arr)) != len(arr)\n",
    "\n",
    "# Test the function\n",
    "output = contains_duplicates(arr)\n",
    "print(output)\n"
   ]
  },
  {
   "cell_type": "code",
   "execution_count": 15,
   "id": "16d0c9cd-cb6a-4164-ad58-16eb93d8f8bf",
   "metadata": {},
   "outputs": [
    {
     "name": "stdout",
     "output_type": "stream",
     "text": [
      "[5, 6, 7, 1, 2, 3, 4]\n"
     ]
    }
   ],
   "source": [
    "#given array\n",
    "arr = [1, 2, 3, 4, 5, 6, 7]\n",
    "k = 3\n",
    "#define function rotate_array\n",
    "def rotate_array(arr, k):\n",
    "    #taking length of array in n\n",
    "    n = len(arr)\n",
    "    k = k % n  # In case k is larger than the length of the array\n",
    "    rotated_array = arr[-k:] + arr[:-k]\n",
    "    return rotated_array\n",
    "\n",
    "# Test the function\n",
    "output = rotate_array(arr, k)\n",
    "print(output)\n"
   ]
  },
  {
   "cell_type": "code",
   "execution_count": 6,
   "id": "bf8880db-a99b-46eb-a189-5b261ce917b9",
   "metadata": {},
   "outputs": [
    {
     "name": "stdout",
     "output_type": "stream",
     "text": [
      "[12, 9, 7, 5, 4, 2]\n"
     ]
    }
   ],
   "source": [
    "#given array\n",
    "arr = [2, 4, 5, 7, 9, 12]\n",
    "#define function \n",
    "def reverse_array(arr):\n",
    "    #We start with two pointers, start and end\n",
    "    start = 0\n",
    "    end = len(arr) - 1\n",
    "    #the while loop, the elements at the start and end indices are swapped using a parallel assignment(arr[start], arr[end] = arr[end], arr[start]).\n",
    "\n",
    "    while start < end:\n",
    "        # Swap elements at the start and end indices\n",
    "        arr[start], arr[end] = arr[end], arr[start]\n",
    "        start += 1\n",
    "        end -= 1\n",
    "\n",
    "# Test the function\n",
    "reverse_array(arr)\n",
    "print(arr)\n"
   ]
  },
  {
   "cell_type": "code",
   "execution_count": 16,
   "id": "e7b01240-b85c-421d-9d0e-5f15caabf1a2",
   "metadata": {},
   "outputs": [
    {
     "name": "stdout",
     "output_type": "stream",
     "text": [
      "The maximum element in the array is: 20\n"
     ]
    }
   ],
   "source": [
    "#given array\n",
    "arr = [10, 5, 20, 8, 15]\n",
    "\n",
    "# Initialize the maximum element with the first element of the array\n",
    "max_ele = arr[0]\n",
    "\n",
    "# Iterate through the array to find the maximum element\n",
    "for element in arr:\n",
    "    if element > max_ele:\n",
    "        max_ele = element\n",
    "\n",
    "print(\"The maximum element in the array is:\", max_ele)\n"
   ]
  },
  {
   "cell_type": "code",
   "execution_count": 17,
   "id": "1c931b93-4577-4241-9846-50200914e81b",
   "metadata": {},
   "outputs": [
    {
     "name": "stdout",
     "output_type": "stream",
     "text": [
      "Array after removing duplicates: [1, 2, 3, 4, 5]\n"
     ]
    }
   ],
   "source": [
    "#given array\n",
    "arr = [1, 1, 2, 2, 2, 3, 3, 4, 4, 4, 5, 5]\n",
    "\n",
    "# Initialize a pointer to keep track of the position to insert the next unique element\n",
    "unique_index = 1\n",
    "\n",
    "# Iterate through the array starting from the second element\n",
    "for i in range(1, len(arr)):\n",
    "    # If the current element is different from the previous one, update the array\n",
    "    if arr[i] != arr[i - 1]:\n",
    "        arr[unique_index] = arr[i]\n",
    "        unique_index += 1\n",
    "\n",
    "# Trim the array to remove the remaining elements\n",
    "arr = arr[:unique_index]\n",
    "\n",
    "print(\"Array after removing duplicates:\", arr)\n"
   ]
  },
  {
   "cell_type": "code",
   "execution_count": null,
   "id": "aaa6d98d-98b9-4ad9-9bf9-f91201632dfb",
   "metadata": {},
   "outputs": [],
   "source": []
  }
 ],
 "metadata": {
  "kernelspec": {
   "display_name": "Python 3 (ipykernel)",
   "language": "python",
   "name": "python3"
  },
  "language_info": {
   "codemirror_mode": {
    "name": "ipython",
    "version": 3
   },
   "file_extension": ".py",
   "mimetype": "text/x-python",
   "name": "python",
   "nbconvert_exporter": "python",
   "pygments_lexer": "ipython3",
   "version": "3.10.8"
  }
 },
 "nbformat": 4,
 "nbformat_minor": 5
}
